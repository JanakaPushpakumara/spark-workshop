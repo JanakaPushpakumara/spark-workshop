{
 "cells": [
  {
   "cell_type": "markdown",
   "metadata": {},
   "source": [
    "# Analyzing House Sales Data\n",
    "We have house sales data in CSV format, we are going to use Spark to load and analyze the data"
   ]
  },
  {
   "cell_type": "markdown",
   "metadata": {},
   "source": [
    "## Explore the data\n",
    "The data is in `data/house-sales` directory.  \n",
    "Go ahead and look at some [sample house sales data](../data/house-sales/house-sales-sample.csv).   \n",
    "It is CSV data that looks like.\n",
    "\n",
    "```\n",
    "Date,SalePrice,SqFtLot,SqFtTotLiving,Bathrooms,Bedrooms,YrBuilt,ZipCode\n",
    "1/3/06,436000,6923,2850,3,4,1947,98199\n",
    "1/26/06,595000,7000,2970,2.25,3,1967,98199\n",
    "2/7/06,618000,7680,2010,1.75,5,1950,98199\n",
    "2/9/06,432500,7000,1670,1.5,4,1963,98199\n",
    "2/17/06,725000,6000,4220,4.5,8,1957,98199\n",
    "3/1/06,998000,5854,3680,3,4,1967,98199\n",
    "\n",
    "```"
   ]
  },
  {
   "cell_type": "markdown",
   "metadata": {
    "collapsed": true
   },
   "source": [
    "## Load CSV Data\n",
    "We are going let Spark figure out the schema also."
   ]
  },
  {
   "cell_type": "code",
   "execution_count": null,
   "metadata": {
    "collapsed": true
   },
   "outputs": [],
   "source": [
    "sales = spark.read.\\\n",
    "        option(\"header\" ,\"true\").\\\n",
    "        option(\"inferSchema\", \"true\").\\\n",
    "        csv(\"../data/house-sales/house-sales-simplified.csv\")\n"
   ]
  },
  {
   "cell_type": "code",
   "execution_count": null,
   "metadata": {},
   "outputs": [],
   "source": [
    "sales.count()"
   ]
  },
  {
   "cell_type": "code",
   "execution_count": null,
   "metadata": {},
   "outputs": [],
   "source": [
    "sales.show()"
   ]
  },
  {
   "cell_type": "code",
   "execution_count": null,
   "metadata": {},
   "outputs": [],
   "source": [
    "# print schema\n",
    "sales.printSchema()"
   ]
  },
  {
   "cell_type": "markdown",
   "metadata": {},
   "source": [
    "## Ready, Set, Analyze!"
   ]
  },
  {
   "cell_type": "code",
   "execution_count": null,
   "metadata": {},
   "outputs": [],
   "source": [
    "## use describe to understand 'SalePrice'\n",
    "sales.describe(\"SalePrice\").show()"
   ]
  },
  {
   "cell_type": "code",
   "execution_count": null,
   "metadata": {},
   "outputs": [],
   "source": [
    "## Produce a report of 'sales by number of bedrooms' \n",
    "sales.groupBy(\"Bedrooms\").count().show()\n",
    "sales.groupBy(\"Bedrooms\").count().orderBy(\"Bedrooms\").show()"
   ]
  },
  {
   "cell_type": "code",
   "execution_count": null,
   "metadata": {
    "collapsed": true
   },
   "outputs": [],
   "source": []
  }
 ],
 "metadata": {
  "kernelspec": {
   "display_name": "Python 3",
   "language": "python",
   "name": "python3"
  },
  "language_info": {
   "codemirror_mode": {
    "name": "ipython",
    "version": 3
   },
   "file_extension": ".py",
   "mimetype": "text/x-python",
   "name": "python",
   "nbconvert_exporter": "python",
   "pygments_lexer": "ipython3",
   "version": "3.6.1"
  }
 },
 "nbformat": 4,
 "nbformat_minor": 2
}
