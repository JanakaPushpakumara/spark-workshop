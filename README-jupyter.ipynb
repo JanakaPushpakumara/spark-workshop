{
 "cells": [
  {
   "cell_type": "markdown",
   "metadata": {},
   "source": [
    "# Spark Workshop\n",
    "Provided by \n",
    "[<img src=\"es-logo.png\"/>](http://elephantscale.com)\n",
    "\n",
    "\n",
    "Questions/comments please contact us   \n",
    "[Elephant Scale](http://elephantscale.com)  \n",
    "Email : info@elephantscale.com  \n",
    "[@elephantscale](https://twitter.com/elephantscale)"
   ]
  },
  {
   "cell_type": "markdown",
   "metadata": {},
   "source": [
    "## Getting the Code + Data\n",
    "This repository is located : https://github.com/elephantscale/spark-workshop\n",
    "\n",
    "\n",
    "```bash\n",
    "    $    git clone  https://github.com/elephantscale/spark-workshop \n",
    "```"
   ]
  },
  {
   "cell_type": "markdown",
   "metadata": {},
   "source": [
    "## Labs\n",
    "\n",
    "### Install Spark\n",
    "Follow [setup.html](setup.html) to set up Spark and environment.  \n",
    "To setup your own laptop, please see [setup-myenv.html](setup-myenv.html)\n",
    "\n",
    "### Hello world\n",
    "- 1 : [Hello Jupyter](0-testing/hello-jupyter.ipynb)\n",
    "- 2 : [Test the setup](0-testing/testing-123.ipynb)\n",
    "- 3 : [Spark Shell Basics](basics/spark-shell.ipynb)\n",
    "\n",
    "### Structured Data / CSV\n",
    "- 4 : [House Sales data](house-sales/house-sales.ipynb)\n",
    "\n",
    "### SQL Analytics\n",
    "- 5 : [SQL analytics](sql/sql.ipynb)\n",
    "\n",
    "### Structured data / JSON\n",
    "- 6 : [Clickstream analytics](clickstream/clickstream.ipyb)\n",
    "\n",
    "### Caching\n",
    "- 7 : [Caching](caching/caching.ipynb)\n"
   ]
  },
  {
   "cell_type": "code",
   "execution_count": null,
   "metadata": {},
   "outputs": [],
   "source": []
  }
 ],
 "metadata": {
  "kernelspec": {
   "display_name": "Python 3 (ipykernel)",
   "language": "python",
   "name": "python3"
  },
  "language_info": {
   "codemirror_mode": {
    "name": "ipython",
    "version": 3
   },
   "file_extension": ".py",
   "mimetype": "text/x-python",
   "name": "python",
   "nbconvert_exporter": "python",
   "pygments_lexer": "ipython3",
   "version": "3.8.11"
  }
 },
 "nbformat": 4,
 "nbformat_minor": 4
}
