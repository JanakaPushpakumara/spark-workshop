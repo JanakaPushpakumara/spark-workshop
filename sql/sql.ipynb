{
 "cells": [
  {
   "cell_type": "markdown",
   "metadata": {},
   "source": [
    "# SQL Analytics\n",
    "Let's analyze the same 'house sales' data using SQL!"
   ]
  },
  {
   "cell_type": "code",
   "execution_count": null,
   "metadata": {},
   "outputs": [],
   "source": [
    "## Read data\n",
    "data_location = \"data/house-sales/house-sales-simplified.csv\" \n",
    "# data_location =  's3://elephantscale-public/data/house-prices/house-sales-simplified.csv'\n",
    "# data_locatiion = 'https://elephantscale-public.s3.amazonaws.com/data/house-prices/house-sales-simplified.csv'\n",
    "\n",
    "\n",
    "home_sales = spark.read.\\\n",
    "        option(\"header\" ,\"true\").\\\n",
    "        option(\"inferSchema\", \"true\").\\\n",
    "        csv(data_location)\n",
    "\n",
    "home_sales.count()"
   ]
  },
  {
   "cell_type": "code",
   "execution_count": null,
   "metadata": {},
   "outputs": [],
   "source": [
    "## Register as SQL table\n",
    "home_sales.createOrReplaceTempView(\"sales\")\n",
    "spark.catalog.listTables()"
   ]
  },
  {
   "cell_type": "markdown",
   "metadata": {},
   "source": [
    "## Ready, Set, SQL !"
   ]
  },
  {
   "cell_type": "code",
   "execution_count": null,
   "metadata": {},
   "outputs": [],
   "source": [
    "## Simple SQL select\n",
    "\n",
    "spark.sql(\"select * from sales\").show()"
   ]
  },
  {
   "cell_type": "code",
   "execution_count": null,
   "metadata": {},
   "outputs": [],
   "source": [
    "## Group by query 'sales vs bedrooms'\n",
    "spark.sql(\"select Bedrooms, count(*) as total from sales group by Bedrooms order by total desc\").show()"
   ]
  },
  {
   "cell_type": "code",
   "execution_count": null,
   "metadata": {},
   "outputs": [],
   "source": [
    "## Min, Max, AVG prices\n",
    "spark.sql(\"select Bedrooms, MIN(SalePrice) as min, AVG(SalePrice) as avg, MAX(SalePrice) as max from sales group by Bedrooms\").show()"
   ]
  },
  {
   "cell_type": "code",
   "execution_count": null,
   "metadata": {
    "collapsed": true,
    "jupyter": {
     "outputs_hidden": true
    }
   },
   "outputs": [],
   "source": []
  }
 ],
 "metadata": {
  "kernelspec": {
   "display_name": "Python 3 (ipykernel)",
   "language": "python",
   "name": "python3"
  },
  "language_info": {
   "codemirror_mode": {
    "name": "ipython",
    "version": 3
   },
   "file_extension": ".py",
   "mimetype": "text/x-python",
   "name": "python",
   "nbconvert_exporter": "python",
   "pygments_lexer": "ipython3",
   "version": "3.8.11"
  }
 },
 "nbformat": 4,
 "nbformat_minor": 4
}
